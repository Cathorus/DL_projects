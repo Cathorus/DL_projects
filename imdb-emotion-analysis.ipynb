{
 "cells": [
  {
   "cell_type": "markdown",
   "id": "8996d962",
   "metadata": {
    "papermill": {
     "duration": 0.005344,
     "end_time": "2023-05-17T22:41:42.256473",
     "exception": false,
     "start_time": "2023-05-17T22:41:42.251129",
     "status": "completed"
    },
    "tags": []
   },
   "source": [
    "1. [Loading Data](#1)\n",
    "1. [EDA](#2)\n",
    "1. [Preprocess](#3)\n",
    "1. [Recurrent Neural Network](#4)\n",
    "1. [Creating RNN](#5)\n",
    "1. [Training RNN](#6)"
   ]
  },
  {
   "cell_type": "markdown",
   "id": "b5052594",
   "metadata": {
    "papermill": {
     "duration": 0.004245,
     "end_time": "2023-05-17T22:41:42.265593",
     "exception": false,
     "start_time": "2023-05-17T22:41:42.261348",
     "status": "completed"
    },
    "tags": []
   },
   "source": [
    "<a id = \"1\"></a><br>\n",
    "# Loading Data"
   ]
  },
  {
   "cell_type": "code",
   "execution_count": 1,
   "id": "eddc1420",
   "metadata": {
    "_cell_guid": "b1076dfc-b9ad-4769-8c92-a6c4dae69d19",
    "_uuid": "8f2839f25d086af736a60e9eeb907d3b93b6e0e5",
    "execution": {
     "iopub.execute_input": "2023-05-17T22:41:42.276780Z",
     "iopub.status.busy": "2023-05-17T22:41:42.276325Z",
     "iopub.status.idle": "2023-05-17T22:41:53.188613Z",
     "shell.execute_reply": "2023-05-17T22:41:53.187008Z"
    },
    "papermill": {
     "duration": 10.921006,
     "end_time": "2023-05-17T22:41:53.191058",
     "exception": false,
     "start_time": "2023-05-17T22:41:42.270052",
     "status": "completed"
    },
    "tags": []
   },
   "outputs": [
    {
     "name": "stderr",
     "output_type": "stream",
     "text": [
      "/opt/conda/lib/python3.10/site-packages/scipy/__init__.py:146: UserWarning: A NumPy version >=1.16.5 and <1.23.0 is required for this version of SciPy (detected version 1.23.5\n",
      "  warnings.warn(f\"A NumPy version >={np_minversion} and <{np_maxversion}\"\n"
     ]
    }
   ],
   "source": [
    "import numpy as np\n",
    "import matplotlib.pyplot as plt \n",
    "from scipy import stats \n",
    "import seaborn as sns\n",
    "from keras.datasets import imdb\n",
    "from tensorflow.keras.preprocessing.sequence import pad_sequences\n",
    "from keras.models import Sequential\n",
    "from tensorflow.keras.layers import Embedding\n",
    "from keras.layers import SimpleRNN, Dense, Activation\n",
    "import warnings\n",
    "warnings.filterwarnings ('ignore')\n"
   ]
  },
  {
   "cell_type": "code",
   "execution_count": 2,
   "id": "e6396b30",
   "metadata": {
    "execution": {
     "iopub.execute_input": "2023-05-17T22:41:53.202762Z",
     "iopub.status.busy": "2023-05-17T22:41:53.201903Z",
     "iopub.status.idle": "2023-05-17T22:41:57.965239Z",
     "shell.execute_reply": "2023-05-17T22:41:57.963934Z"
    },
    "papermill": {
     "duration": 4.77199,
     "end_time": "2023-05-17T22:41:57.967715",
     "exception": false,
     "start_time": "2023-05-17T22:41:53.195725",
     "status": "completed"
    },
    "tags": []
   },
   "outputs": [
    {
     "name": "stdout",
     "output_type": "stream",
     "text": [
      "Downloading data from https://storage.googleapis.com/tensorflow/tf-keras-datasets/imdb.npz\n",
      "17464789/17464789 [==============================] - 0s 0us/step\n"
     ]
    }
   ],
   "source": [
    "(x_train,x_test),(y_train,y_test) = imdb.load_data(path=\"inbdb.npz\",\n",
    "                                                   num_words=None, skip_top = 0, \n",
    "                                                   maxlen = None, seed = 113, \n",
    "                                                   start_char = 1,oov_char = 2, \n",
    "                                                   index_from= 3)"
   ]
  },
  {
   "cell_type": "code",
   "execution_count": 3,
   "id": "b1685d20",
   "metadata": {
    "execution": {
     "iopub.execute_input": "2023-05-17T22:41:57.979006Z",
     "iopub.status.busy": "2023-05-17T22:41:57.978615Z",
     "iopub.status.idle": "2023-05-17T22:41:57.988545Z",
     "shell.execute_reply": "2023-05-17T22:41:57.987079Z"
    },
    "papermill": {
     "duration": 0.017851,
     "end_time": "2023-05-17T22:41:57.990519",
     "exception": false,
     "start_time": "2023-05-17T22:41:57.972668",
     "status": "completed"
    },
    "tags": []
   },
   "outputs": [
    {
     "name": "stdout",
     "output_type": "stream",
     "text": [
      "Type: <class 'numpy.ndarray'>\n",
      "X Train Shape: (25000,)\n",
      "Y Train Shape: (25000,)\n"
     ]
    },
    {
     "data": {
      "text/plain": [
       "(None, None, None)"
      ]
     },
     "execution_count": 3,
     "metadata": {},
     "output_type": "execute_result"
    }
   ],
   "source": [
    "print(f\"Type: {type(x_train)}\"),print(f\"X Train Shape: {x_train.shape}\"),print(f\"Y Train Shape: {y_train.shape}\")"
   ]
  },
  {
   "cell_type": "markdown",
   "id": "a1ba35e5",
   "metadata": {
    "papermill": {
     "duration": 0.004822,
     "end_time": "2023-05-17T22:41:58.000371",
     "exception": false,
     "start_time": "2023-05-17T22:41:57.995549",
     "status": "completed"
    },
    "tags": []
   },
   "source": [
    "<a id = \"2\"></a><br>\n",
    "# EDA "
   ]
  },
  {
   "cell_type": "code",
   "execution_count": 4,
   "id": "67f68da4",
   "metadata": {
    "execution": {
     "iopub.execute_input": "2023-05-17T22:41:58.012477Z",
     "iopub.status.busy": "2023-05-17T22:41:58.012026Z",
     "iopub.status.idle": "2023-05-17T22:41:58.688063Z",
     "shell.execute_reply": "2023-05-17T22:41:58.686701Z"
    },
    "papermill": {
     "duration": 0.684771,
     "end_time": "2023-05-17T22:41:58.690112",
     "exception": false,
     "start_time": "2023-05-17T22:41:58.005341",
     "status": "completed"
    },
    "tags": []
   },
   "outputs": [
    {
     "data": {
      "text/plain": [
       "<AxesSubplot: ylabel='Density'>"
      ]
     },
     "execution_count": 4,
     "metadata": {},
     "output_type": "execute_result"
    },
    {
     "data": {
      "image/png": "[encoded data removed]",
      "text/plain": [
       "<Figure size 640x480 with 1 Axes>"
      ]
     },
     "metadata": {},
     "output_type": "display_data"
    }
   ],
   "source": [
    "review_len_train = [] \n",
    "review_len_test = []\n",
    "for i, ii in zip (x_train, x_test):\n",
    "    review_len_train.append(len(i))\n",
    "    review_len_test.append(len(i))\n",
    "\n",
    "sns.distplot (review_len_train, hist_kws = {\"alpha\":0.3})\n",
    "sns.distplot (review_len_test, hist_kws={\"alpha\":0.3})"
   ]
  },
  {
   "cell_type": "code",
   "execution_count": 5,
   "id": "14257884",
   "metadata": {
    "execution": {
     "iopub.execute_input": "2023-05-17T22:41:58.703507Z",
     "iopub.status.busy": "2023-05-17T22:41:58.702459Z",
     "iopub.status.idle": "2023-05-17T22:41:58.716935Z",
     "shell.execute_reply": "2023-05-17T22:41:58.715655Z"
    },
    "papermill": {
     "duration": 0.023202,
     "end_time": "2023-05-17T22:41:58.718939",
     "exception": false,
     "start_time": "2023-05-17T22:41:58.695737",
     "status": "completed"
    },
    "tags": []
   },
   "outputs": [
    {
     "name": "stdout",
     "output_type": "stream",
     "text": [
      "Train mean : 238.71364\n",
      "Train median : 178.0\n",
      "Train mode: ModeResult(mode=array([132]), count=array([196]))\n"
     ]
    }
   ],
   "source": [
    "print(f\"Train mean : {np.mean(review_len_train)}\")\n",
    "print(f\"Train median : {np.median(review_len_train)}\")\n",
    "print(f\"Train mode: {stats.mode(review_len_train)}\")"
   ]
  },
  {
   "cell_type": "code",
   "execution_count": 6,
   "id": "cec8ee4e",
   "metadata": {
    "execution": {
     "iopub.execute_input": "2023-05-17T22:41:58.731338Z",
     "iopub.status.busy": "2023-05-17T22:41:58.730883Z",
     "iopub.status.idle": "2023-05-17T22:41:58.907613Z",
     "shell.execute_reply": "2023-05-17T22:41:58.906342Z"
    },
    "papermill": {
     "duration": 0.185562,
     "end_time": "2023-05-17T22:41:58.909887",
     "exception": false,
     "start_time": "2023-05-17T22:41:58.724325",
     "status": "completed"
    },
    "tags": []
   },
   "outputs": [
    {
     "name": "stdout",
     "output_type": "stream",
     "text": [
      "Downloading data from https://storage.googleapis.com/tensorflow/tf-keras-datasets/imdb_word_index.json\n",
      "1641221/1641221 [==============================] - 0s 0us/step\n",
      "<class 'dict'>\n",
      "88584\n"
     ]
    }
   ],
   "source": [
    "word_index = imdb.get_word_index()\n",
    "print(type(word_index))\n",
    "print(len(word_index))"
   ]
  },
  {
   "cell_type": "code",
   "execution_count": 7,
   "id": "32da69b7",
   "metadata": {
    "execution": {
     "iopub.execute_input": "2023-05-17T22:41:58.923155Z",
     "iopub.status.busy": "2023-05-17T22:41:58.922800Z",
     "iopub.status.idle": "2023-05-17T22:41:58.962697Z",
     "shell.execute_reply": "2023-05-17T22:41:58.961145Z"
    },
    "papermill": {
     "duration": 0.049162,
     "end_time": "2023-05-17T22:41:58.964887",
     "exception": false,
     "start_time": "2023-05-17T22:41:58.915725",
     "status": "completed"
    },
    "tags": []
   },
   "outputs": [
    {
     "name": "stdout",
     "output_type": "stream",
     "text": [
      "you\n",
      "! big hair big boobs bad music and a giant safety pin these are the words to best describe this terrible movie i love cheesy horror movies and i've seen hundreds but this had got to be on of the worst ever made the plot is paper thin and ridiculous the acting is an abomination the script is completely laughable the best is the end showdown with the cop and how he worked out who the killer is it's just so damn terribly written the clothes are sickening and funny in equal measures the hair is big lots of boobs bounce men wear those cut tee shirts that show off their stomachs sickening that men actually wore them and the music is just synthesiser trash that plays over and over again in almost every scene there is trashy music boobs and paramedics taking away bodies and the gym still doesn't close for bereavement all joking aside this is a truly bad film whose only charm is to look back on the disaster that was the 80's and have a good old laugh at how bad everything was back then\n",
      "\n",
      "[1, 14, 22, 3443, 6, 176, 7, 5063, 88, 12, 2679, 23, 1310, 5, 109, 943, 4, 114, 9, 55, 606, 5, 111, 7, 4, 139, 193, 273, 23, 4, 172, 270, 11, 7216, 10626, 4, 8463, 2801, 109, 1603, 21, 4, 22, 3861, 8, 6, 1193, 1330, 10, 10, 4, 105, 987, 35, 841, 16873, 19, 861, 1074, 5, 1987, 17975, 45, 55, 221, 15, 670, 5304, 526, 14, 1069, 4, 405, 5, 2438, 7, 27, 85, 108, 131, 4, 5045, 5304, 3884, 405, 9, 3523, 133, 5, 50, 13, 104, 51, 66, 166, 14, 22, 157, 9, 4, 530, 239, 34, 8463, 2801, 45, 407, 31, 7, 41, 3778, 105, 21, 59, 299, 12, 38, 950, 5, 4521, 15, 45, 629, 488, 2733, 127, 6, 52, 292, 17, 4, 6936, 185, 132, 1988, 5304, 1799, 488, 2693, 47, 6, 392, 173, 4, 21686, 4378, 270, 2352, 4, 1500, 7, 4, 65, 55, 73, 11, 346, 14, 20, 9, 6, 976, 2078, 7, 5293, 861, 12746, 5, 4182, 30, 3127, 23651, 56, 4, 841, 5, 990, 692, 8, 4, 1669, 398, 229, 10, 10, 13, 2822, 670, 5304, 14, 9, 31, 7, 27, 111, 108, 15, 2033, 19, 7836, 1429, 875, 551, 14, 22, 9, 1193, 21, 45, 4829, 5, 45, 252, 8, 12508, 6, 565, 921, 3639, 39, 4, 529, 48, 25, 181, 8, 67, 35, 1732, 22, 49, 238, 60, 135, 1162, 14, 9, 290, 4, 58, 10, 10, 472, 45, 55, 878, 8, 169, 11, 374, 5687, 25, 203, 28, 8, 818, 12, 125, 4, 3077]\n"
     ]
    }
   ],
   "source": [
    "for keys, values in word_index.items():\n",
    "    if values == 22: print(keys)\n",
    "        \n",
    "        \n",
    "def whatItSay(index=24):\n",
    "    reverse_index = dict([(value, key) for (key, value) in word_index.items()])\n",
    "    decode_review =\" \".join([reverse_index.get(i-3, \"!\") for i in x_train [index]])\n",
    "    print(decode_review)\n",
    "    print()\n",
    "    print(y_train [index])\n",
    "    return decode_review\n",
    "decoded_review = whatItSay (1)"
   ]
  },
  {
   "cell_type": "markdown",
   "id": "8a1214bc",
   "metadata": {
    "papermill": {
     "duration": 0.005203,
     "end_time": "2023-05-17T22:41:58.975886",
     "exception": false,
     "start_time": "2023-05-17T22:41:58.970683",
     "status": "completed"
    },
    "tags": []
   },
   "source": [
    "<a id = \"3\"></a><br>\n",
    "# Preprocess"
   ]
  },
  {
   "cell_type": "code",
   "execution_count": 8,
   "id": "1c230be0",
   "metadata": {
    "execution": {
     "iopub.execute_input": "2023-05-17T22:41:58.989194Z",
     "iopub.status.busy": "2023-05-17T22:41:58.988417Z",
     "iopub.status.idle": "2023-05-17T22:42:04.178911Z",
     "shell.execute_reply": "2023-05-17T22:42:04.177423Z"
    },
    "papermill": {
     "duration": 5.200086,
     "end_time": "2023-05-17T22:42:04.181563",
     "exception": false,
     "start_time": "2023-05-17T22:41:58.981477",
     "status": "completed"
    },
    "tags": []
   },
   "outputs": [
    {
     "name": "stdout",
     "output_type": "stream",
     "text": [
      "Downloading data from https://storage.googleapis.com/tensorflow/tf-keras-datasets/imdb.npz\n",
      "17464789/17464789 [==============================] - 0s 0us/step\n"
     ]
    }
   ],
   "source": [
    "num_words = 15000\n",
    "(x_train, y_train), (x_test, y_test) = imdb.load_data(num_words=num_words)\n",
    "max_len = 130\n",
    "\n",
    "x_train = pad_sequences(x_train, maxlen=max_len)\n",
    "x_test = pad_sequences(x_test.tolist(), maxlen=max_len)"
   ]
  },
  {
   "cell_type": "code",
   "execution_count": 9,
   "id": "32bf97b7",
   "metadata": {
    "execution": {
     "iopub.execute_input": "2023-05-17T22:42:04.197916Z",
     "iopub.status.busy": "2023-05-17T22:42:04.197496Z",
     "iopub.status.idle": "2023-05-17T22:42:04.226467Z",
     "shell.execute_reply": "2023-05-17T22:42:04.224676Z"
    },
    "papermill": {
     "duration": 0.03955,
     "end_time": "2023-05-17T22:42:04.228576",
     "exception": false,
     "start_time": "2023-05-17T22:42:04.189026",
     "status": "completed"
    },
    "tags": []
   },
   "outputs": [
    {
     "name": "stdout",
     "output_type": "stream",
     "text": [
      "! ! shown in australia as ! this incredibly bad movie is so bad that you become ! and have to watch it to the end just to see if it could get any worse and it does the storyline is so predictable it seems written by a high school ! class the sets are pathetic but marginally better than the ! and the acting is wooden br br the infant ! seems to have been stolen from the props ! of ! ! there didn't seem to be a single original idea in the whole movie br br i found this movie to be so bad that i laughed most of the way through br br malcolm mcdowell should hang his head in shame he obviously needed the money\n",
      "\n",
      "0\n"
     ]
    }
   ],
   "source": [
    "decoded_review = whatItSay(20)"
   ]
  },
  {
   "cell_type": "markdown",
   "id": "1a8faa86",
   "metadata": {
    "papermill": {
     "duration": 0.005828,
     "end_time": "2023-05-17T22:42:04.240679",
     "exception": false,
     "start_time": "2023-05-17T22:42:04.234851",
     "status": "completed"
    },
    "tags": []
   },
   "source": [
    "<a id = \"4\"></a><br>\n",
    "# Recurrent Neural Network"
   ]
  },
  {
   "cell_type": "markdown",
   "id": "e8ab9516",
   "metadata": {
    "papermill": {
     "duration": 0.006343,
     "end_time": "2023-05-17T22:42:04.253302",
     "exception": false,
     "start_time": "2023-05-17T22:42:04.246959",
     "status": "completed"
    },
    "tags": []
   },
   "source": [
    "<a id = \"5\"></a><br>\n",
    "## Creating RNN"
   ]
  },
  {
   "cell_type": "code",
   "execution_count": 10,
   "id": "78c42c63",
   "metadata": {
    "execution": {
     "iopub.execute_input": "2023-05-17T22:42:04.267201Z",
     "iopub.status.busy": "2023-05-17T22:42:04.266598Z",
     "iopub.status.idle": "2023-05-17T22:42:04.597418Z",
     "shell.execute_reply": "2023-05-17T22:42:04.596503Z"
    },
    "papermill": {
     "duration": 0.340284,
     "end_time": "2023-05-17T22:42:04.599461",
     "exception": false,
     "start_time": "2023-05-17T22:42:04.259177",
     "status": "completed"
    },
    "tags": []
   },
   "outputs": [
    {
     "name": "stdout",
     "output_type": "stream",
     "text": [
      "Model: \"sequential\"\n",
      "_________________________________________________________________\n",
      " Layer (type)                Output Shape              Param #   \n",
      "=================================================================\n",
      " embedding (Embedding)       (None, 130, 32)           480000    \n",
      "                                                                 \n",
      " simple_rnn (SimpleRNN)      (None, 16)                784       \n",
      "                                                                 \n",
      " dense (Dense)               (None, 1)                 17        \n",
      "                                                                 \n",
      " activation (Activation)     (None, 1)                 0         \n",
      "                                                                 \n",
      "=================================================================\n",
      "Total params: 480,801\n",
      "Trainable params: 480,801\n",
      "Non-trainable params: 0\n",
      "_________________________________________________________________\n",
      "None\n"
     ]
    }
   ],
   "source": [
    "rnn = Sequential()\n",
    "rnn.add(Embedding(num_words, 32, input_length= len(x_train[0])))\n",
    "rnn.add(SimpleRNN(16, input_shape= (num_words,max_len), \n",
    "                   return_sequences= False, activation= \"relu\"))\n",
    "rnn.add(Dense(1))\n",
    "rnn.add(Activation(\"sigmoid\"))\n",
    "print(rnn.summary())\n",
    "rnn.compile(loss = \"binary_crossentropy\", optimizer=\"rmsprop\", metrics= [\"accuracy\"])"
   ]
  },
  {
   "cell_type": "markdown",
   "id": "077511f8",
   "metadata": {
    "papermill": {
     "duration": 0.006798,
     "end_time": "2023-05-17T22:42:04.613722",
     "exception": false,
     "start_time": "2023-05-17T22:42:04.606924",
     "status": "completed"
    },
    "tags": []
   },
   "source": [
    "<a id = \"6\"></a><br>\n",
    "## Training RNN"
   ]
  },
  {
   "cell_type": "code",
   "execution_count": 11,
   "id": "2a035405",
   "metadata": {
    "execution": {
     "iopub.execute_input": "2023-05-17T22:42:04.629575Z",
     "iopub.status.busy": "2023-05-17T22:42:04.629200Z",
     "iopub.status.idle": "2023-05-17T22:42:43.280482Z",
     "shell.execute_reply": "2023-05-17T22:42:43.279158Z"
    },
    "papermill": {
     "duration": 38.663155,
     "end_time": "2023-05-17T22:42:43.283774",
     "exception": false,
     "start_time": "2023-05-17T22:42:04.620619",
     "status": "completed"
    },
    "tags": []
   },
   "outputs": [
    {
     "name": "stdout",
     "output_type": "stream",
     "text": [
      "Epoch 1/5\n",
      "196/196 [==============================] - 9s 38ms/step - loss: 0.5904 - accuracy: 0.6964 - val_loss: 0.5247 - val_accuracy: 0.8063\n",
      "Epoch 2/5\n",
      "196/196 [==============================] - 7s 38ms/step - loss: 0.4366 - accuracy: 0.8361 - val_loss: 0.4105 - val_accuracy: 0.8322\n",
      "Epoch 3/5\n",
      "196/196 [==============================] - 7s 38ms/step - loss: 0.3521 - accuracy: 0.8615 - val_loss: 0.3690 - val_accuracy: 0.8417\n",
      "Epoch 4/5\n",
      "196/196 [==============================] - 7s 37ms/step - loss: 0.3025 - accuracy: 0.8813 - val_loss: 0.3539 - val_accuracy: 0.8492\n",
      "Epoch 5/5\n",
      "196/196 [==============================] - 7s 38ms/step - loss: 0.2829 - accuracy: 0.8902 - val_loss: 0.3584 - val_accuracy: 0.8492\n"
     ]
    }
   ],
   "source": [
    "history = rnn.fit(x_train,y_train,validation_data=(x_test,y_test),epochs=5,batch_size=128,verbose=1)"
   ]
  },
  {
   "cell_type": "code",
   "execution_count": 12,
   "id": "525aa662",
   "metadata": {
    "execution": {
     "iopub.execute_input": "2023-05-17T22:42:43.359854Z",
     "iopub.status.busy": "2023-05-17T22:42:43.358565Z",
     "iopub.status.idle": "2023-05-17T22:42:53.655078Z",
     "shell.execute_reply": "2023-05-17T22:42:53.653596Z"
    },
    "papermill": {
     "duration": 10.336397,
     "end_time": "2023-05-17T22:42:53.657484",
     "exception": false,
     "start_time": "2023-05-17T22:42:43.321087",
     "status": "completed"
    },
    "tags": []
   },
   "outputs": [
    {
     "name": "stdout",
     "output_type": "stream",
     "text": [
      "782/782 [==============================] - 6s 7ms/step - loss: 0.3584 - accuracy: 0.8492\n",
      "Accuracy : %84.91600155830383\n"
     ]
    }
   ],
   "source": [
    "score =rnn.evaluate(x_test,y_test)\n",
    "print(f\"Accuracy : %{score[1]*100}\")"
   ]
  },
  {
   "cell_type": "code",
   "execution_count": 13,
   "id": "5b716f90",
   "metadata": {
    "execution": {
     "iopub.execute_input": "2023-05-17T22:42:53.746113Z",
     "iopub.status.busy": "2023-05-17T22:42:53.745136Z",
     "iopub.status.idle": "2023-05-17T22:42:53.955125Z",
     "shell.execute_reply": "2023-05-17T22:42:53.953868Z"
    },
    "papermill": {
     "duration": 0.256484,
     "end_time": "2023-05-17T22:42:53.957318",
     "exception": false,
     "start_time": "2023-05-17T22:42:53.700834",
     "status": "completed"
    },
    "tags": []
   },
   "outputs": [
    {
     "data": {
      "image/png": "[encoded data removed]",
      "text/plain": [
       "<Figure size 640x480 with 1 Axes>"
      ]
     },
     "metadata": {},
     "output_type": "display_data"
    }
   ],
   "source": [
    "plt.figure()\n",
    "plt.plot(history.history[\"accuracy\"], label=\"Train\")\n",
    "plt.plot(history.history[\"val_accuracy\"], label=\"Test\")\n",
    "plt.title(\"Accuracy\")\n",
    "plt.ylabel(\"Accuracy\")\n",
    "plt.xlabel(\"Epochs\")\n",
    "plt.legend()\n",
    "plt.show()"
   ]
  },
  {
   "cell_type": "code",
   "execution_count": 14,
   "id": "7ceae9e2",
   "metadata": {
    "execution": {
     "iopub.execute_input": "2023-05-17T22:42:54.045094Z",
     "iopub.status.busy": "2023-05-17T22:42:54.044159Z",
     "iopub.status.idle": "2023-05-17T22:42:54.248689Z",
     "shell.execute_reply": "2023-05-17T22:42:54.247328Z"
    },
    "papermill": {
     "duration": 0.251915,
     "end_time": "2023-05-17T22:42:54.251324",
     "exception": false,
     "start_time": "2023-05-17T22:42:53.999409",
     "status": "completed"
    },
    "tags": []
   },
   "outputs": [
    {
     "data": {
      "image/png": "[encoded data removed]",
      "text/plain": [
       "<Figure size 640x480 with 1 Axes>"
      ]
     },
     "metadata": {},
     "output_type": "display_data"
    }
   ],
   "source": [
    "plt.figure()\n",
    "plt.plot(history.history[\"loss\"], label=\"Train\")\n",
    "plt.plot(history.history[\"val_loss\"], label=\"Test\")\n",
    "plt.title(\"Accuracy\")\n",
    "plt.ylabel(\"Accuracy\")\n",
    "plt.xlabel(\"Epochs\")\n",
    "plt.legend()\n",
    "plt.show()"
   ]
  }
 ],
 "metadata": {
  "kernelspec": {
   "display_name": "Python 3",
   "language": "python",
   "name": "python3"
  },
  "language_info": {
   "codemirror_mode": {
    "name": "ipython",
    "version": 3
   },
   "file_extension": ".py",
   "mimetype": "text/x-python",
   "name": "python",
   "nbconvert_exporter": "python",
   "pygments_lexer": "ipython3",
   "version": "3.10.10"
  },
  "papermill": {
   "default_parameters": {},
   "duration": 85.560098,
   "end_time": "2023-05-17T22:42:57.713876",
   "environment_variables": {},
   "exception": null,
   "input_path": "__notebook__.ipynb",
   "output_path": "__notebook__.ipynb",
   "parameters": {},
   "start_time": "2023-05-17T22:41:32.153778",
   "version": "2.4.0"
  }
 },
 "nbformat": 4,
 "nbformat_minor": 5
}
